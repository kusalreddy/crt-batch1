{
  "nbformat": 4,
  "nbformat_minor": 0,
  "metadata": {
    "colab": {
      "name": "06-12-2019.ipynb",
      "provenance": [],
      "include_colab_link": true
    },
    "kernelspec": {
      "name": "python3",
      "display_name": "Python 3"
    }
  },
  "cells": [
    {
      "cell_type": "markdown",
      "metadata": {
        "id": "view-in-github",
        "colab_type": "text"
      },
      "source": [
        "<a href=\"https://colab.research.google.com/github/kusalreddy/crt-batch1/blob/master/06_12_2019.ipynb\" target=\"_parent\"><img src=\"https://colab.research.google.com/assets/colab-badge.svg\" alt=\"Open In Colab\"/></a>"
      ]
    },
    {
      "cell_type": "code",
      "metadata": {
        "id": "K4MwLcSELCKS",
        "colab_type": "code",
        "outputId": "d6d1d83c-3439-405e-a90c-3c0a638ba3d5",
        "colab": {
          "base_uri": "https://localhost:8080/",
          "height": 129
        }
      },
      "source": [
        "#include <stdio.h>\n",
        "int main()\n",
        "{\n",
        "\tchar x;\n",
        "\tscanf(\"%c\",&x);\n",
        "\tif(x=='a'||x=='e'||x=='i'||x=='o'||x=='u')\n",
        "\t{\n",
        "\t\tprintf(\"vowel\");\n",
        "\t}\n",
        "\telse\n",
        "\t{\n",
        "\t\tprintf(\"consonent\");\n",
        "\t}\n",
        "\treturn 0;\n",
        "}\n",
        "\t"
      ],
      "execution_count": 0,
      "outputs": [
        {
          "output_type": "error",
          "ename": "SyntaxError",
          "evalue": "ignored",
          "traceback": [
            "\u001b[0;36m  File \u001b[0;32m\"<ipython-input-1-d41d228d2390>\"\u001b[0;36m, line \u001b[0;32m1\u001b[0m\n\u001b[0;31m    int main()\u001b[0m\n\u001b[0m           ^\u001b[0m\n\u001b[0;31mSyntaxError\u001b[0m\u001b[0;31m:\u001b[0m invalid syntax\n"
          ]
        }
      ]
    },
    {
      "cell_type": "code",
      "metadata": {
        "id": "zOCq3aNAHAWq",
        "colab_type": "code",
        "colab": {}
      },
      "source": [
        "#include <stdio.h>\n",
        "int main()\n",
        "{\n",
        "\tint x;\n",
        "\tx=10;\n",
        "\tprintf(\"%d\",x);\n",
        "\tprintf(\"\\n%d\",&x);\n",
        "\tprintf(\"\\n%d\",sizeof(x));\n",
        "\treturn 0;\n",
        "}"
      ],
      "execution_count": 0,
      "outputs": []
    },
    {
      "cell_type": "code",
      "metadata": {
        "id": "hLoZo7RaHAkG",
        "colab_type": "code",
        "colab": {}
      },
      "source": [
        "#include <stdio.h>\n",
        "int main()\n",
        "{\n",
        "\tint x,res;\n",
        "\tx=10;\n",
        "\tres=x>100;\n",
        "\tprintf(\"%d\",res);\n",
        "\treturn 0;\n",
        "}"
      ],
      "execution_count": 0,
      "outputs": []
    },
    {
      "cell_type": "code",
      "metadata": {
        "id": "hliCvxuWHAmw",
        "colab_type": "code",
        "colab": {}
      },
      "source": [
        "#include <stdio.h>\n",
        "int main()\n",
        "{\n",
        "\tint x,y;\n",
        "\tx=5;\n",
        "\ty=10;\n",
        "\tif(x>y)\n",
        "\t{ \n",
        "\tprintf(\"%d\",y*y);\n",
        "\t}\n",
        "    else{\n",
        "\tprintf(\"%d\",x*x);\n",
        "\t}\n",
        "\treturn 0;\n",
        "}"
      ],
      "execution_count": 0,
      "outputs": []
    },
    {
      "cell_type": "code",
      "metadata": {
        "id": "F_gmIYqjHApO",
        "colab_type": "code",
        "colab": {}
      },
      "source": [
        "#include <stdio.h>\n",
        "int main()\n",
        "{\n",
        "\tint x;\n",
        "\tscanf(\"%d\",&x);\n",
        "\tif(x>18 && x<85)\n",
        "\t{\n",
        "\t\tprintf(\"eligibility\");\n",
        "\n",
        "\t}\n",
        "\telse\n",
        "\t{\n",
        "\t\tprintf(\"not\");\n",
        "\t}\n",
        "\treturn 0;\n",
        "}"
      ],
      "execution_count": 0,
      "outputs": []
    },
    {
      "cell_type": "code",
      "metadata": {
        "id": "9n25TalEHAr7",
        "colab_type": "code",
        "colab": {}
      },
      "source": [
        "#include <stdio.h>\n",
        "int main()\n",
        "{\n",
        "\tint x;\n",
        "\tscanf(\"%d\",&x);\n",
        "\tif(x%3==0 && x%5==0)\n",
        "\t{\n",
        "\t\tprintf(\"perfect\");\n",
        "\t}\n",
        "\telse\n",
        "\t{\n",
        "\t\tprintf(\"no\");\n",
        "\t}\n",
        "\treturn 0;\n",
        "}"
      ],
      "execution_count": 0,
      "outputs": []
    },
    {
      "cell_type": "code",
      "metadata": {
        "id": "Oaqa5FWDHBMH",
        "colab_type": "code",
        "outputId": "4c8be899-bd70-4d5a-bccf-53698b9551ad",
        "colab": {
          "base_uri": "https://localhost:8080/",
          "height": 129
        }
      },
      "source": [
        "//if else allows the condition\n",
        "//switch does't have condition\n",
        "//we can't compile if else in switch\n",
        "#include <stdio.h>\n",
        "int main()\n",
        "{\n",
        "\tint x;\n",
        "\tscanf(\"%d\",&x);\n",
        "\tswitch(x)\n",
        "\t{\n",
        "\t    case 1: printf(\"sunday\");\n",
        "\t\tbreak;\n",
        "\t\tcase 2: printf(\"monday\");\n",
        "\t\tbreak;\n",
        "\t\tcase 3: printf(\"tuesday\");\n",
        "\t\tbreak;\n",
        "\t\tcase 4: printf(\"wednesday\");\n",
        "\t\tbreak;\n",
        "\t\tcase 5: printf(\"thursday\");\n",
        "\t\tbreak;\n",
        "\t\tcase 6: printf(\"friday\");\n",
        "\t\tbreak;\n",
        "\t\tcase 7: printf(\"saturday\");\n",
        "\t\tbreak;\n",
        "\t}\n",
        "\treturn 0;\n",
        "}"
      ],
      "execution_count": 0,
      "outputs": [
        {
          "output_type": "error",
          "ename": "SyntaxError",
          "evalue": "ignored",
          "traceback": [
            "\u001b[0;36m  File \u001b[0;32m\"<ipython-input-2-e12d22307a40>\"\u001b[0;36m, line \u001b[0;32m1\u001b[0m\n\u001b[0;31m    (/if, else, allows, the, condition)\u001b[0m\n\u001b[0m     ^\u001b[0m\n\u001b[0;31mSyntaxError\u001b[0m\u001b[0;31m:\u001b[0m invalid syntax\n"
          ]
        }
      ]
    },
    {
      "cell_type": "code",
      "metadata": {
        "id": "eTe47eOwQfia",
        "colab_type": "code",
        "colab": {}
      },
      "source": [
        "#include <stdio.h>\n",
        "int main()\n",
        "{\n",
        "\tint x,y,z;\n",
        "\tscanf(\"%d%d%d\",&x,&y,&z);\n",
        "\tif (x!=0 && y!=0 && z!=0 && x+y+z+180)\n",
        "\t{\n",
        "\t\tprintf(\"yes\");\n",
        "\t}\n",
        "\telse\n",
        "\t{\n",
        "\t\tprintf(\"no\");\n",
        "\t}\n",
        "\treturn 0;\n",
        "}"
      ],
      "execution_count": 0,
      "outputs": []
    },
    {
      "cell_type": "code",
      "metadata": {
        "id": "xKh5GevlFiQJ",
        "colab_type": "code",
        "colab": {}
      },
      "source": [
        "#include <stdio.h>\n",
        "int main()\n",
        "{\n",
        "\tint a,b;\n",
        "\tscanf(\"%d%d\",&a,&b);\n",
        "\twhile (a<=b)\n",
        "\t{\n",
        "\t\tif(a%3==0 && a%5==0)\n",
        "\t\t{\n",
        "\t\t\tprintf(\"%d\",a);\n",
        "\t\t}\n",
        "\t\ta++;\n",
        "\t}\n",
        "\treturn 0;\n",
        "}"
      ],
      "execution_count": 0,
      "outputs": []
    },
    {
      "cell_type": "code",
      "metadata": {
        "id": "YusydvQyIdsB",
        "colab_type": "code",
        "colab": {}
      },
      "source": [
        "#include <stdio.h>\n",
        "int main()\n",
        "{\n",
        "\tint x,s;\n",
        "\tscanf(\"%d\",&x);\n",
        "\twhile(x!=0)\n",
        "\t{\t\n",
        "\ts=x%10;\n",
        "\tx=x/10;\n",
        "\tprintf(\"%d\",s);\n",
        "}\n",
        "return 0;\n",
        "}"
      ],
      "execution_count": 0,
      "outputs": []
    },
    {
      "cell_type": "code",
      "metadata": {
        "id": "pniq5GkzPzmE",
        "colab_type": "code",
        "colab": {}
      },
      "source": [
        "#include <stdio.h>\n",
        "int main()\n",
        "{\n",
        "\tint x,s;\n",
        "\tscanf(\"%d\",&x);\n",
        "\twhile(x!=0)\n",
        "\t{\n",
        "\t\ts=x%10;\n",
        "\t\tx=x/10;\n",
        "\tswitch(s)\n",
        "\t\t{\n",
        "\t\t\tcase 1: printf(\"one\");\n",
        "\t\t\tbreak;\n",
        "\t\t\tcase 2: printf(\"two\");\n",
        "\t\t\tbreak;\n",
        "\t\t\tcase 3: printf(\"three\");\n",
        "\t\t\tbreak;\n",
        "\t\t\tcase 4: printf(\"four\");\n",
        "\t\t\tbreak;\n",
        "\t\t\tcase 5: printf(\"five\");\n",
        "\t\t\tbreak;\n",
        "\t\t\tcase 6: printf(\"six\");\n",
        "\t\t\tbreak;\n",
        "\t\t\tcase 7: printf(\"seven\");\n",
        "\t\t\tbreak;\n",
        "\t\t\tcase 8: printf(\"eight\");\n",
        "\t\t\tbreak;\n",
        "\t\t\tcase 9: printf(\"nine\");\n",
        "\t\t\tbreak;\n",
        "\t\t\tcase 10: printf(\"ten\");\n",
        "\t\t\tbreak;\n",
        "\t\t}\n",
        "\t}\t\n",
        "return 0;\n",
        "}"
      ],
      "execution_count": 0,
      "outputs": []
    },
    {
      "cell_type": "code",
      "metadata": {
        "id": "UB3IAkCvHRvi",
        "colab_type": "code",
        "colab": {}
      },
      "source": [
        "#include <stdio.h>\n",
        "int main()\n",
        "{\n",
        "\tint x,r,lag=0,sma=9l;\n",
        "\tscanf(\"%d\",&x);\n",
        "\twhile(x!=0)\n",
        "\t{\n",
        "\t\tr=x%10;\n",
        "\t\tif(lag<r){\n",
        "\t\t\tlag=r;\n",
        "\t\t}\n",
        "\t\tif(sma>r){\n",
        "\t\t\tsma=r;\n",
        "\t\t}\n",
        "\t    x/=10;\n",
        "\t}\n",
        "\tprintf(\"[%d,%d]\",sma,lag);\n",
        "\treturn 0;\n",
        "}"
      ],
      "execution_count": 0,
      "outputs": []
    }
  ]
}