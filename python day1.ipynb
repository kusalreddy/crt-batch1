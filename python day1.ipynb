{
 "cells": [
  {
   "cell_type": "markdown",
   "metadata": {},
   "source": [
    "### data type of python\n",
    "    -class\n",
    "    -int\n",
    "    -float\n",
    "    -str"
   ]
  },
  {
   "cell_type": "code",
   "execution_count": 23,
   "metadata": {},
   "outputs": [
    {
     "name": "stdout",
     "output_type": "stream",
     "text": [
      "python class\n",
      "<class 'str'>\n"
     ]
    }
   ],
   "source": [
    "s=\"python class\"\n",
    "print(s)\n",
    "print(type(s))"
   ]
  },
  {
   "cell_type": "code",
   "execution_count": 24,
   "metadata": {},
   "outputs": [
    {
     "name": "stdout",
     "output_type": "stream",
     "text": [
      "12.23\n",
      "<class 'float'>\n"
     ]
    }
   ],
   "source": [
    "f=12.23\n",
    "print(f)\n",
    "print(type(f))"
   ]
  },
  {
   "cell_type": "code",
   "execution_count": 19,
   "metadata": {},
   "outputs": [
    {
     "name": "stdout",
     "output_type": "stream",
     "text": [
      "1234556\n",
      "<class 'int'>\n"
     ]
    }
   ],
   "source": [
    "x=1234556\n",
    "print(x)\n",
    "print(type(x))"
   ]
  },
  {
   "cell_type": "markdown",
   "metadata": {},
   "source": [
    "### datatype convertions\n",
    "    -int()\n",
    "      -int() convert the input into int class\n",
    "    -str()\n",
    "      -str() convert the input into str class\n",
    "    -float()\n",
    "      -float() convert the input into float class"
   ]
  },
  {
   "cell_type": "code",
   "execution_count": 27,
   "metadata": {},
   "outputs": [
    {
     "name": "stdout",
     "output_type": "stream",
     "text": [
      "12.34 <class 'float'>\n",
      "12 <class 'int'>\n"
     ]
    }
   ],
   "source": [
    "s=12.34\n",
    "print(s,end = ' ')\n",
    "print(type(s))\n",
    "d=int(s)\n",
    "print(d,end =' ')\n",
    "print(type(d))"
   ]
  },
  {
   "cell_type": "code",
   "execution_count": 34,
   "metadata": {},
   "outputs": [
    {
     "name": "stdout",
     "output_type": "stream",
     "text": [
      "12.34 <class 'str'>\n",
      "12.34 <class 'float'>\n",
      "12 <class 'int'>\n"
     ]
    }
   ],
   "source": [
    "s=\"12.34\"\n",
    "print(s,end = ' ')\n",
    "print(type(s))\n",
    "d=float(s)\n",
    "print(d,end = ' ')\n",
    "print(type(d))\n",
    "f=int(d)\n",
    "print(f,end= ' ')\n",
    "print(type(f))"
   ]
  },
  {
   "cell_type": "code",
   "execution_count": 38,
   "metadata": {},
   "outputs": [
    {
     "name": "stdout",
     "output_type": "stream",
     "text": [
      "kusal\n",
      "kusal <class 'str'>\n"
     ]
    }
   ],
   "source": [
    "s=input('')\n",
    "print(s, end =' ')\n",
    "print(type(s))"
   ]
  },
  {
   "cell_type": "code",
   "execution_count": 41,
   "metadata": {},
   "outputs": [
    {
     "name": "stdout",
     "output_type": "stream",
     "text": [
      "12\n",
      "12 <class 'int'>\n"
     ]
    }
   ],
   "source": [
    "d=int(input(''))\n",
    "print(d, end =' ')\n",
    "print(type(d))"
   ]
  },
  {
   "cell_type": "markdown",
   "metadata": {},
   "source": [
    "## control flow statements\n",
    "    -conditional statements\n",
    "      .ifelse\n",
    "    -looping statements\n",
    "       .while\n",
    "       .for\n",
    "       "
   ]
  },
  {
   "cell_type": "code",
   "execution_count": null,
   "metadata": {},
   "outputs": [],
   "source": [
    "# boolean_condition:\n",
    "#       statements\n",
    "# else:\n",
    "#      statements\n",
    " "
   ]
  },
  {
   "cell_type": "code",
   "execution_count": 57,
   "metadata": {},
   "outputs": [
    {
     "name": "stdout",
     "output_type": "stream",
     "text": [
      "12\n",
      "even no\n"
     ]
    }
   ],
   "source": [
    "\n",
    "\n",
    "a=int(input(''))\n",
    "if a%2 == 0:\n",
    "    print(\"even no\")\n",
    "else:\n",
    "    print(\"odd no\")"
   ]
  },
  {
   "cell_type": "code",
   "execution_count": 65,
   "metadata": {},
   "outputs": [
    {
     "name": "stdout",
     "output_type": "stream",
     "text": [
      "12\n",
      "not eligible\n"
     ]
    }
   ],
   "source": [
    "and,or\n",
    "a=int(input(''))\n",
    "if 18<=a<=85:\n",
    "    print(\"eligible\")\n",
    "else:\n",
    "    print(\"not eligible\")"
   ]
  },
  {
   "cell_type": "code",
   "execution_count": 67,
   "metadata": {},
   "outputs": [
    {
     "name": "stdout",
     "output_type": "stream",
     "text": [
      "46\n",
      "0.35294117647058826\n",
      "0\n",
      "12\n",
      "408\n",
      "144\n"
     ]
    }
   ],
   "source": [
    "a=12\n",
    "d=34\n",
    "print(a+d) #addition\n",
    "print(a/d) #division but output is decimal\n",
    "print(a//d) #division but output is int value\n",
    "print(a%d) #modular division output rem\n",
    "print(a*d) #mult\n",
    "print(a**2) #power"
   ]
  },
  {
   "cell_type": "code",
   "execution_count": 3,
   "metadata": {},
   "outputs": [
    {
     "name": "stdout",
     "output_type": "stream",
     "text": [
      "value a5\n",
      "value b6\n",
      "36\n"
     ]
    }
   ],
   "source": [
    "a=int(input('value a'))\n",
    "b=int(input('value b'))\n",
    "if a>b:\n",
    "    print(a*a)\n",
    "else:\n",
    "    print(b*b)"
   ]
  },
  {
   "cell_type": "code",
   "execution_count": 2,
   "metadata": {},
   "outputs": [
    {
     "name": "stdout",
     "output_type": "stream",
     "text": [
      "2\n",
      "positive\n"
     ]
    }
   ],
   "source": [
    "a=int(input(''))\n",
    "if a>0:\n",
    "    print(\"positive\")\n",
    "elif a<0:\n",
    "    print(\"negitive\")\n",
    "elif a==0:\n",
    "    print(\"zero\")"
   ]
  },
  {
   "cell_type": "code",
   "execution_count": 1,
   "metadata": {
    "scrolled": true
   },
   "outputs": [
    {
     "name": "stdout",
     "output_type": "stream",
     "text": [
      "12345678910"
     ]
    }
   ],
   "source": [
    "a=1\n",
    "while a<=10:\n",
    "    print(a,end='')\n",
    "    a= a + 1"
   ]
  },
  {
   "cell_type": "code",
   "execution_count": 3,
   "metadata": {},
   "outputs": [
    {
     "name": "stdout",
     "output_type": "stream",
     "text": [
      "5\n",
      "15\n"
     ]
    }
   ],
   "source": [
    "a=int(input(''))\n",
    "sum=0\n",
    "b=1\n",
    "while b<=a :\n",
    "    sum=sum+b\n",
    "    b+=1\n",
    "print(sum)"
   ]
  },
  {
   "cell_type": "code",
   "execution_count": 12,
   "metadata": {},
   "outputs": [
    {
     "name": "stdout",
     "output_type": "stream",
     "text": [
      "4\n",
      "2 ,4 ,"
     ]
    }
   ],
   "source": [
    "a=int(input(''))\n",
    "b=1\n",
    "while b<=a:\n",
    "    if b%2==0:\n",
    "        print(b,end=' ,')\n",
    "    b+=1    "
   ]
  },
  {
   "cell_type": "code",
   "execution_count": null,
   "metadata": {},
   "outputs": [],
   "source": [
    "a=int(input(''))\n",
    "i=1\n",
    "while i<=0:\n",
    "    if i%a==0:\n",
    "        print(i)\n",
    "    "
   ]
  }
 ],
 "metadata": {
  "kernelspec": {
   "display_name": "Python 3",
   "language": "python",
   "name": "python3"
  },
  "language_info": {
   "codemirror_mode": {
    "name": "ipython",
    "version": 3
   },
   "file_extension": ".py",
   "mimetype": "text/x-python",
   "name": "python",
   "nbconvert_exporter": "python",
   "pygments_lexer": "ipython3",
   "version": "3.7.3"
  }
 },
 "nbformat": 4,
 "nbformat_minor": 2
}
